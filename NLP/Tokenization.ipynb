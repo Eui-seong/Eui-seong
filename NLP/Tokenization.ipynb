{
  "nbformat": 4,
  "nbformat_minor": 0,
  "metadata": {
    "colab": {
      "name": "Tokenization.ipynb",
      "provenance": [],
      "collapsed_sections": [],
      "authorship_tag": "ABX9TyNhHZkwOjjcyIMA7iqZ4584",
      "include_colab_link": true
    },
    "kernelspec": {
      "name": "python3",
      "display_name": "Python 3"
    },
    "language_info": {
      "name": "python"
    }
  },
  "cells": [
    {
      "cell_type": "markdown",
      "metadata": {
        "id": "view-in-github",
        "colab_type": "text"
      },
      "source": [
        "<a href=\"https://colab.research.google.com/github/Eui-seong/Eui-seong/blob/main/Tokenization.ipynb\" target=\"_parent\"><img src=\"https://colab.research.google.com/assets/colab-badge.svg\" alt=\"Open In Colab\"/></a>"
      ]
    },
    {
      "cell_type": "markdown",
      "source": [
        "# **1. 단어 토큰화(Word Tokenization)**\n",
        "* 토큰화 : 코퍼스에서 토큰 단위로 나누는 작업"
      ],
      "metadata": {
        "id": "lttWOoVKQeP3"
      }
    },
    {
      "cell_type": "markdown",
      "source": [
        "* 토큰의 기준을 단어(word)로 하는 경우, 단어 토큰화라고 한다.\n",
        "* 여기서 단어(word)는 단어 외에도 단어구, 의미를 갖는 문자열로도 간주되기도 함."
      ],
      "metadata": {
        "id": "kYs6MaX5RWOq"
      }
    },
    {
      "cell_type": "code",
      "execution_count": 2,
      "metadata": {
        "id": "RGQnnj0unlTI",
        "colab": {
          "base_uri": "https://localhost:8080/"
        },
        "outputId": "f65d7a03-b107-4da3-891b-777868bbc4c8"
      },
      "outputs": [
        {
          "output_type": "stream",
          "name": "stdout",
          "text": [
            "[nltk_data] Downloading package punkt to /root/nltk_data...\n",
            "[nltk_data]   Unzipping tokenizers/punkt.zip.\n"
          ]
        }
      ],
      "source": [
        "# punkt is the required package for tokenization. \n",
        "# Hence you may download it using nltk download manager or download it programmatically using nltk.download('punkt').\n",
        "# 아마 컴퓨터에서는 패키지 설치하며 자동으로 설치되었는듯.\n",
        "\n",
        "import nltk\n",
        "nltk.download('punkt')  \n",
        "from nltk.tokenize import word_tokenize\n",
        "from nltk.tokenize import WordPunctTokenizer\n",
        "from tensorflow.keras.preprocessing.text import text_to_word_sequence"
      ]
    },
    {
      "cell_type": "markdown",
      "source": [
        "# **2. 토큰화 중 생기는 선택의 순간**"
      ],
      "metadata": {
        "id": "t6Z5Lzv8RMjU"
      }
    },
    {
      "cell_type": "code",
      "source": [
        "# word_tokenize \n",
        "# Don't : Do + n't / Jone's : Jone + 's \n",
        "\n",
        "print('단어 토큰화1 :',word_tokenize(\"Don't be fooled by the dark sounding name, Mr.Jone's Orphanage is as cheery as cheery goes for a pastry shop.\"))"
      ],
      "metadata": {
        "colab": {
          "base_uri": "https://localhost:8080/"
        },
        "id": "VeOkAmxBnuG5",
        "outputId": "298271cb-57f4-4f8d-ba66-8c4e1944ce23"
      },
      "execution_count": null,
      "outputs": [
        {
          "output_type": "stream",
          "name": "stdout",
          "text": [
            "단어 토큰화1 : ['Do', \"n't\", 'be', 'fooled', 'by', 'the', 'dark', 'sounding', 'name', ',', 'Mr.Jone', \"'s\", 'Orphanage', 'is', 'as', 'cheery', 'as', 'cheery', 'goes', 'for', 'a', 'pastry', 'shop', '.']\n"
          ]
        }
      ]
    },
    {
      "cell_type": "code",
      "source": [
        "# WordPunctTokenizer\n",
        "# 구두점을 별도로 분류하는 특징을 갖고 있다.\n",
        "# Don't : Don + ' + t / Jone's : Jone + ' + s \n",
        "\n",
        "print('단어 토큰화2 :',WordPunctTokenizer().tokenize(\"Don't be fooled by the dark sounding name, Mr.Jone's Orphanage is as cheery as cheery goes for a pastry shop.\"))"
      ],
      "metadata": {
        "id": "SUKsB-dRowx8",
        "colab": {
          "base_uri": "https://localhost:8080/"
        },
        "outputId": "08b6ec7c-e03b-47f1-e029-3ffce070c293"
      },
      "execution_count": null,
      "outputs": [
        {
          "output_type": "stream",
          "name": "stdout",
          "text": [
            "단어 토큰화2 : ['Don', \"'\", 't', 'be', 'fooled', 'by', 'the', 'dark', 'sounding', 'name', ',', 'Mr', '.', 'Jone', \"'\", 's', 'Orphanage', 'is', 'as', 'cheery', 'as', 'cheery', 'goes', 'for', 'a', 'pastry', 'shop', '.']\n"
          ]
        }
      ]
    },
    {
      "cell_type": "code",
      "source": [
        "# text_to_word_sequence\n",
        "# 기본적으로 모든 알파벳을 소문자로 바꾸면서 구두점 제거 \n",
        "# don't나 jone's 같은 경우 아포스트로피는 보존된다.\n",
        "\n",
        "print('단어 토큰화3 :',text_to_word_sequence(\"Don't be fooled by the dark sounding name, Mr.Jone's Orphanage is as cheery as cheery goes for a pastry shop.\"))"
      ],
      "metadata": {
        "colab": {
          "base_uri": "https://localhost:8080/"
        },
        "id": "-FlnfoxJrxn_",
        "outputId": "e518b136-7663-4cbc-c800-33963cff0ee2"
      },
      "execution_count": null,
      "outputs": [
        {
          "output_type": "stream",
          "name": "stdout",
          "text": [
            "단어 토큰화3 : [\"don't\", 'be', 'fooled', 'by', 'the', 'dark', 'sounding', 'name', 'mr', \"jone's\", 'orphanage', 'is', 'as', 'cheery', 'as', 'cheery', 'goes', 'for', 'a', 'pastry', 'shop']\n"
          ]
        }
      ]
    },
    {
      "cell_type": "markdown",
      "source": [
        "# **3. 토큰화에서 고려해야할 사항**\n"
      ],
      "metadata": {
        "id": "UIXQQO45Q12r"
      }
    },
    {
      "cell_type": "markdown",
      "source": [
        "* 구두점이나 특수 문자를 단순 제외해서는 안 된다.\n",
        "* 줄임말과 단어 내에 띄어쓰기가 있는 경우."
      ],
      "metadata": {
        "id": "ftgeiBVwRZEw"
      }
    },
    {
      "cell_type": "code",
      "source": [
        "# 트리뱅크 워드토크나이저\n",
        "# 규칙 1. 하이푼으로 구성된 단어는 하나로 유지한다.\n",
        "# 규칙 2. doesn't와 같이 아포스트로피로 '접어'가 함께하는 단어는 분리해준다. \n",
        "\n",
        "from nltk.tokenize import TreebankWordTokenizer\n",
        "\n",
        "tokenizer = TreebankWordTokenizer()\n",
        "\n",
        "text = \"Starting a home-based restaurant may be an ideal. \\\n",
        "it doesn't have a food chain or restaurant of their own.\"\n",
        "print('트리뱅크 워드토크나이저 :',tokenizer.tokenize(text))"
      ],
      "metadata": {
        "id": "rLH6f2nztGXH",
        "colab": {
          "base_uri": "https://localhost:8080/"
        },
        "outputId": "6dd1f488-f80d-47fb-c245-a1530c61cc23"
      },
      "execution_count": null,
      "outputs": [
        {
          "output_type": "stream",
          "name": "stdout",
          "text": [
            "트리뱅크 워드토크나이저 : ['Starting', 'a', 'home-based', 'restaurant', 'may', 'be', 'an', 'ideal.', 'it', 'does', \"n't\", 'have', 'a', 'food', 'chain', 'or', 'restaurant', 'of', 'their', 'own', '.']\n"
          ]
        }
      ]
    },
    {
      "cell_type": "markdown",
      "source": [
        "# **4. 문장 토큰화(Sentence Tokenization)**\n"
      ],
      "metadata": {
        "id": "LnYiSS4u_zS2"
      }
    },
    {
      "cell_type": "markdown",
      "source": [
        "* 토큰의 단위가 문장\n",
        "* 문장 분류(sentence segmentation)라고도 부른다.\n",
        "* 마침표(.)는 !,? 에 비해서 명확한 구분자(boundary) 역할을 하지 못한다.\n",
        "\n",
        "\n",
        "\n"
      ],
      "metadata": {
        "id": "LUZh4479R4Hb"
      }
    },
    {
      "cell_type": "markdown",
      "source": [
        "EX1) IP 192.168.56.31 서버에 들어가서 로그 파일 저장해서 aaa@gmail.com로 결과 좀 보내줘. 그 후 점심 먹으러 가자.\n",
        "\n",
        "EX2) Since I'm actively looking for Ph.D. students, I get the same question a dozen times every year. "
      ],
      "metadata": {
        "id": "AIPL0cbXSrGB"
      }
    },
    {
      "cell_type": "code",
      "source": [
        "# sent_tokenize : NLTK에 있는 모듈로 영어 문장을 토큰화함\n",
        "\n",
        "from nltk.tokenize import sent_tokenize\n",
        "\n",
        "text = \"His barber kept his word. But keeping such a huge secret to himself \\\n",
        "was driving him crazy. Finally,the barber went up a mountain and almost to \\\n",
        "the edge of a cliff. He dug a hole in the midst of some reeds. He looked \\\n",
        "about, to make sure no one was near.\"\n",
        "print('문장 토큰화1 :',sent_tokenize(text))"
      ],
      "metadata": {
        "colab": {
          "base_uri": "https://localhost:8080/"
        },
        "id": "WbNuCSizSHuz",
        "outputId": "5b78b568-b4f5-4c70-e7b0-26b93eec63c2"
      },
      "execution_count": 3,
      "outputs": [
        {
          "output_type": "stream",
          "name": "stdout",
          "text": [
            "문장 토큰화1 : ['His barber kept his word.', 'But keeping such a huge secret to himself was driving him crazy.', 'Finally,the barber went up a mountain and almost to the edge of a cliff.', 'He dug a hole in the midst of some reeds.', 'He looked about, to make sure no one was near.']\n"
          ]
        }
      ]
    },
    {
      "cell_type": "code",
      "source": [
        "# 문장 중간에 마침표가 다수 등장하는 경우\n",
        "# 단순히 마침표를 구분자로 문장을 구분하지 않았음을 확인할 수 있다.\n",
        "\n",
        "text = \"I am actively looking for Ph.D. students. and you are a Ph.D student.\"\n",
        "print('문장 토큰화2 :',sent_tokenize(text))"
      ],
      "metadata": {
        "colab": {
          "base_uri": "https://localhost:8080/"
        },
        "id": "bnIbY8QsTewA",
        "outputId": "12e35795-8272-460d-80ed-99c36ccd7e9f"
      },
      "execution_count": 4,
      "outputs": [
        {
          "output_type": "stream",
          "name": "stdout",
          "text": [
            "문장 토큰화2 : ['I am actively looking for Ph.D. students.', 'and you are a Ph.D student.']\n"
          ]
        }
      ]
    },
    {
      "cell_type": "code",
      "source": [
        "# kss : 한국어 문장 토큰화 도구 \n",
        "!pip install kss"
      ],
      "metadata": {
        "id": "MDJB__4oT3Aa"
      },
      "execution_count": null,
      "outputs": []
    },
    {
      "cell_type": "code",
      "source": [
        "import kss\n",
        "\n",
        "text = '딥 러닝 자연어 처리가 재미있기는 합니다. 그런데 문제는 영어보다 한국어로 할 때 너무 \\\n",
        "어렵습니다. 이제 해보면 알걸요?'\n",
        "print('한국어 문장 토큰화 :',kss.split_sentences(text))"
      ],
      "metadata": {
        "colab": {
          "base_uri": "https://localhost:8080/"
        },
        "id": "H7N3LOiFUDAs",
        "outputId": "8f4da432-fc43-44e4-8f89-ed9f314f32bb"
      },
      "execution_count": 7,
      "outputs": [
        {
          "output_type": "stream",
          "name": "stderr",
          "text": [
            "[Korean Sentence Splitter]: Initializing Pynori...\n"
          ]
        },
        {
          "output_type": "stream",
          "name": "stdout",
          "text": [
            "한국어 문장 토큰화 : ['딥 러닝 자연어 처리가 재미있기는 합니다.', '그런데 문제는 영어보다 한국어로 할 때 너무 어렵습니다.', '이제 해보면 알걸요?']\n"
          ]
        }
      ]
    },
    {
      "cell_type": "markdown",
      "source": [
        "# **5. 한국어에서의 토큰화의 어려움**\n",
        "\n",
        "* 영어는 New York 과 같은 합성어나 he's 와 같이 줄임말에 대한 예외처리만 한다면, 띄어쓰기(whitespace)를 기준으로 하는 띄어쓰기 토큰화를 수행해도 단어 토큰화가 잘 작동한다. 대부분의 경우에서 단어 단위로 띄어쓰기가 이루어지기 때문에 띄어쓰기 토큰화와 단어 토큰화가 거의 같다.\n",
        "* 하지만 한국어는 영어와 달리 띄어쓰기만으로는 토큰화를 하기에 부족하다. 한국어의 경우에는 띄어쓰기 단위가 되는 단위를 '어절'이라고 하는데 어절 토큰화는 한국어 NLP에서 지양되고 있다. 어절 토큰화와 단어 토큰화는 같지 않기 때문이다. 그 근본적인 이유는 한국어가 영어와는 다른 형태를 가지는 언어인 **교착어**라는 점에서 기인한다. 교착어란 조사, 어미 등을 붙여서 말을 만드는 언어를 말한다."
      ],
      "metadata": {
        "id": "-qsbiMxeUcpR"
      }
    },
    {
      "cell_type": "markdown",
      "source": [
        "### **5-1. 교착어의 특성**\n",
        "* 한국어 토큰화에서는 **형태소(morpheme)** 란 개념을 반드시 이해해야 한다.\n",
        "* 형태소 : 뜻을 가진 가장 작은 말의 단위를 말한다.\n",
        "* **자립 형태소** : 접사,어미,조사와 상관없이 자립하여 사용할 수 있는 형태소. 그 자체로 단어가 된다.체언(명사,대명사,수사),수식언(관형사,부사),감탄사 등이있다.\n",
        "* **의존 형태소** : 다른 형태소와 결합하여 사용되는 형태소. 접사,어미,조사,어간을 말한다."
      ],
      "metadata": {
        "id": "s2LU75d_Uu2s"
      }
    },
    {
      "cell_type": "markdown",
      "source": [
        "**|  결국 한국어에서 영어의 단어 토큰화와 유사한 형태를 얻으로면 어절 토큰화가 아닌, 형태소 토큰화를 수행해야 한다.**"
      ],
      "metadata": {
        "id": "CUn3UTnNWrMz"
      }
    },
    {
      "cell_type": "markdown",
      "source": [
        "### **5-2. 한국어는 띄어쓰기가 영어보다 잘 지켜지지 않는다.**\n",
        "* 사용하는 한국어 코퍼스가 많은 경우에 띄어쓰기가 틀렸거나 지켜지지 않는 코퍼스가 많다.\n",
        "* 한국어는 영어권 언어와 비교하여 띄어쓰기가 어렵고 잘 지켜지지 않는 경향이 있다.\n",
        "* 이에 대한 이유는 기본적으로 한국어의 경우 띄어쓰기가 지켜지지 않아도 글을 쉽게 이해할 수 있는 언어라는 점이다."
      ],
      "metadata": {
        "id": "wzpjUgR8W0uB"
      }
    },
    {
      "cell_type": "markdown",
      "source": [
        "**| 결론적으로 한국어는 수많은 코퍼스에서 띄어쓰기가 무시되는 경우가 많아 자연어 처리가 어려워졌다.**"
      ],
      "metadata": {
        "id": "58AV_NmBXyA-"
      }
    },
    {
      "cell_type": "markdown",
      "source": [
        "# **6. 품사 태깅(Part-of-speech tagging)**\n",
        "\n",
        "* 품사 태깅 : 단어 토큰화 과정에서 각 단어가 어떤 품사로 쓰였는지를 구분해놓는 작업"
      ],
      "metadata": {
        "id": "yfRGOnNUX4fD"
      }
    },
    {
      "cell_type": "markdown",
      "source": [
        "* 단어는 표기는 같지만 품사에 따라서 단어의 의미가 달라지기도 한다.\n",
        "* 예를 들어 '못'이라는 단어는 명사로는 망치를 사용해서 목재 따위를 고정하는 물건이지만,  부사로서의 '못'은 어떠한 행위를 할 수 없다는 의미이다.\n",
        "* 따라서 단어의 의미를 제대로 파악하기 위해서는 해당 단어가 어떤 품사로 쓰였는지 보는 것이 주요 지표가 될 수도 있다.\n"
      ],
      "metadata": {
        "id": "_u-Jyy-dX_5H"
      }
    },
    {
      "cell_type": "markdown",
      "source": [
        "# **7. NLTK와 koNLPy를 이용한 영어, 한국어 토큰화 실습**"
      ],
      "metadata": {
        "id": "O5JSLqI0Yn2m"
      }
    },
    {
      "cell_type": "code",
      "source": [
        "# Penn Treebank POS Tags : NLTK의 품사 태깅 기준.\n",
        "# The perceptron part-of-speech tagger implements part-of-speech tagging \n",
        "# using the averaged, structured perceptron algorithm.\n",
        "\n",
        "# PRP : 인칭 대명사\n",
        "# VBP : 동사\n",
        "# RB : 부사\n",
        "# VBG : 현재분사\n",
        "# IN : 전치사\n",
        "# NNP : 고유명사\n",
        "# NNS : 복수형 명사\n",
        "# CC : 접속사\n",
        "# DT : 관사\n",
        "\n",
        "nltk.download('averaged_perceptron_tagger')\n",
        "from nltk.tokenize import word_tokenize\n",
        "from nltk.tag import pos_tag\n",
        "\n",
        "text=\"I am actively looking for Ph.D. students. and you are a Ph.D. studnet.\"\n",
        "tokenized_sentence = word_tokenize(text)\n",
        "\n",
        "print('단어 토큰화 :', tokenized_sentence)\n",
        "print('품사 태깅 :',pos_tag(tokenized_sentence))"
      ],
      "metadata": {
        "colab": {
          "base_uri": "https://localhost:8080/"
        },
        "id": "7rs6opuUYvby",
        "outputId": "db40a59d-2004-4e0f-a686-da9f147585a9"
      },
      "execution_count": 9,
      "outputs": [
        {
          "output_type": "stream",
          "name": "stdout",
          "text": [
            "[nltk_data] Downloading package averaged_perceptron_tagger to\n",
            "[nltk_data]     /root/nltk_data...\n",
            "[nltk_data]   Unzipping taggers/averaged_perceptron_tagger.zip.\n",
            "단어 토큰화 : ['I', 'am', 'actively', 'looking', 'for', 'Ph.D.', 'students', '.', 'and', 'you', 'are', 'a', 'Ph.D.', 'studnet', '.']\n",
            "품사 태깅 : [('I', 'PRP'), ('am', 'VBP'), ('actively', 'RB'), ('looking', 'VBG'), ('for', 'IN'), ('Ph.D.', 'NNP'), ('students', 'NNS'), ('.', '.'), ('and', 'CC'), ('you', 'PRP'), ('are', 'VBP'), ('a', 'DT'), ('Ph.D.', 'NNP'), ('studnet', 'NN'), ('.', '.')]\n"
          ]
        }
      ]
    },
    {
      "cell_type": "code",
      "source": [
        "! pip install KoNLPy"
      ],
      "metadata": {
        "colab": {
          "base_uri": "https://localhost:8080/"
        },
        "id": "Buk6XYtVb1N1",
        "outputId": "f0a44859-2e53-47a7-a780-d975a22c3305"
      },
      "execution_count": 13,
      "outputs": [
        {
          "output_type": "stream",
          "name": "stdout",
          "text": [
            "Collecting KoNLPy\n",
            "  Downloading konlpy-0.6.0-py2.py3-none-any.whl (19.4 MB)\n",
            "\u001b[K     |████████████████████████████████| 19.4 MB 652 kB/s \n",
            "\u001b[?25hRequirement already satisfied: lxml>=4.1.0 in /usr/local/lib/python3.7/dist-packages (from KoNLPy) (4.2.6)\n",
            "Collecting JPype1>=0.7.0\n",
            "  Downloading JPype1-1.3.0-cp37-cp37m-manylinux_2_5_x86_64.manylinux1_x86_64.whl (448 kB)\n",
            "\u001b[K     |████████████████████████████████| 448 kB 73.9 MB/s \n",
            "\u001b[?25hRequirement already satisfied: numpy>=1.6 in /usr/local/lib/python3.7/dist-packages (from KoNLPy) (1.21.5)\n",
            "Requirement already satisfied: typing-extensions in /usr/local/lib/python3.7/dist-packages (from JPype1>=0.7.0->KoNLPy) (3.10.0.2)\n",
            "Installing collected packages: JPype1, KoNLPy\n",
            "Successfully installed JPype1-1.3.0 KoNLPy-0.6.0\n"
          ]
        }
      ]
    },
    {
      "cell_type": "code",
      "source": [
        "# KoNLPy(코엔엘파이) 파이썬 패키지의 형태소 분석기\n",
        "# Okt(Open Korea Text)\n",
        "# 메캅(Mecab)\n",
        "# 코모란(Komoran)\n",
        "# 한나눔 (Hannanum)\n",
        "# 꼬꼬마(Kkma)\n",
        "\n",
        "from konlpy.tag import Okt\n",
        "from konlpy.tag import Kkma\n",
        "\n",
        "okt = Okt()\n",
        "kkma = Kkma()\n",
        "\n",
        "print('OKT 형태소 분석 :',okt.morphs(\"열심히 코딩한 당신, 연휴에는 여행을 가봐요\"))\n",
        "print('OKT 품사 태깅 :',okt.pos(\"열심히 코딩한 당신, 연휴에는 여행을 가봐요\"))\n",
        "print('OKT 명사 추출 :',okt.nouns(\"열심히 코딩한 당신, 연휴에는 여행을 가봐요\"))"
      ],
      "metadata": {
        "colab": {
          "base_uri": "https://localhost:8080/"
        },
        "id": "8EXltJ82ZWRN",
        "outputId": "68b0455e-1ec2-45a9-91ca-195731250eab"
      },
      "execution_count": 15,
      "outputs": [
        {
          "output_type": "stream",
          "name": "stdout",
          "text": [
            "OKT 형태소 분석 : ['열심히', '코딩', '한', '당신', ',', '연휴', '에는', '여행', '을', '가봐요']\n",
            "OKT 품사 태깅 : [('열심히', 'Adverb'), ('코딩', 'Noun'), ('한', 'Josa'), ('당신', 'Noun'), (',', 'Punctuation'), ('연휴', 'Noun'), ('에는', 'Josa'), ('여행', 'Noun'), ('을', 'Josa'), ('가봐요', 'Verb')]\n",
            "OKT 명사 추출 : ['코딩', '당신', '연휴', '여행']\n"
          ]
        }
      ]
    },
    {
      "cell_type": "code",
      "source": [
        "print('꼬꼬마 형태소 분석 :',kkma.morphs(\"열심히 코딩한 당신, 연휴에는 여행을 가봐요\"))\n",
        "print('꼬꼬마 품사 태깅 :',kkma.pos(\"열심히 코딩한 당신, 연휴에는 여행을 가봐요\"))\n",
        "print('꼬꼬마 명사 추출 :',kkma.nouns(\"열심히 코딩한 당신, 연휴에는 여행을 가봐요\"))"
      ],
      "metadata": {
        "colab": {
          "base_uri": "https://localhost:8080/"
        },
        "id": "c63XxYTebUx3",
        "outputId": "933b166a-3391-4917-d3fd-85722cdf796c"
      },
      "execution_count": 16,
      "outputs": [
        {
          "output_type": "stream",
          "name": "stdout",
          "text": [
            "꼬꼬마 형태소 분석 : ['열심히', '코딩', '하', 'ㄴ', '당신', ',', '연휴', '에', '는', '여행', '을', '가보', '아요']\n",
            "꼬꼬마 품사 태깅 : [('열심히', 'MAG'), ('코딩', 'NNG'), ('하', 'XSV'), ('ㄴ', 'ETD'), ('당신', 'NP'), (',', 'SP'), ('연휴', 'NNG'), ('에', 'JKM'), ('는', 'JX'), ('여행', 'NNG'), ('을', 'JKO'), ('가보', 'VV'), ('아요', 'EFN')]\n",
            "꼬꼬마 명사 추출 : ['코딩', '당신', '연휴', '여행']\n"
          ]
        }
      ]
    },
    {
      "cell_type": "code",
      "source": [
        ""
      ],
      "metadata": {
        "id": "ZV68S2ItcmKp"
      },
      "execution_count": null,
      "outputs": []
    }
  ]
}
